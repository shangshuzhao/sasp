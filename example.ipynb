{
 "cells": [
  {
   "cell_type": "markdown",
   "id": "f5a09979",
   "metadata": {},
   "source": [
    "# SASP score"
   ]
  },
  {
   "cell_type": "code",
   "execution_count": null,
   "id": "a7c36ee1",
   "metadata": {},
   "outputs": [],
   "source": [
    "import random\n",
    "import numpy as np\n",
    "import pandas as pd\n",
    "import matplotlib.pyplot as plt\n",
    "import torch\n",
    "\n",
    "from tgae import TGAE\n",
    "\n",
    "import proteins_info\n",
    "import fine_tune\n",
    "import get_index"
   ]
  },
  {
   "cell_type": "markdown",
   "id": "fe7728fe",
   "metadata": {},
   "source": [
    "# Fine-tunning"
   ]
  },
  {
   "cell_type": "markdown",
   "id": "8821ea73",
   "metadata": {},
   "source": [
    "## Hyper-parameter"
   ]
  },
  {
   "cell_type": "code",
   "execution_count": null,
   "id": "ce39f292",
   "metadata": {},
   "outputs": [],
   "source": [
    "seed=42\n",
    "random.seed(seed)                         # Python random\n",
    "np.random.seed(seed)                      # NumPy\n",
    "torch.manual_seed(seed)                   # PyTorch CPU\n",
    "torch.cuda.manual_seed(seed)              # PyTorch GPU\n",
    "torch.cuda.manual_seed_all(seed)          # if multi-GPU\n",
    "\n",
    "device = torch.device(\"cuda\" if torch.cuda.is_available() else \"cpu\")"
   ]
  },
  {
   "cell_type": "markdown",
   "id": "709534a4",
   "metadata": {},
   "source": [
    "## Import data and process"
   ]
  },
  {
   "cell_type": "code",
   "execution_count": null,
   "id": "ceddbc82",
   "metadata": {},
   "outputs": [],
   "source": [
    "df = pd.read_csv(\"PESC3/pesc3.csv\")\n",
    "protein_idx, age_idx = proteins_info.clean_data(df, tunning = True)\n",
    "\n",
    "df.iloc[:,protein_idx] = proteins_info.match_ukb_dist(df.iloc[:,protein_idx])\n",
    "\n",
    "train_idx, valid_idx = fine_tune.split_df(\n",
    "    n_rows=len(df),\n",
    "    train_size=0.6,\n",
    "    valid_size=0.2,\n",
    ")\n",
    "\n",
    "train_loader, proteins_embedding = fine_tune.prepare_data(\n",
    "    train_sample=df.iloc[train_idx, protein_idx],\n",
    "    train_target=df.iloc[train_idx, age_idx],\n",
    "    device=device,\n",
    ")\n",
    "\n",
    "valid_loader, proteins_embedding = fine_tune.prepare_data(\n",
    "    train_sample=df.iloc[valid_idx, protein_idx],\n",
    "    train_target=df.iloc[valid_idx, age_idx],\n",
    "    device=device,\n",
    ")"
   ]
  },
  {
   "cell_type": "markdown",
   "id": "7f678e20",
   "metadata": {},
   "source": [
    "## Fine-tunning"
   ]
  },
  {
   "cell_type": "code",
   "execution_count": null,
   "id": "1db24a96",
   "metadata": {},
   "outputs": [],
   "source": [
    "tgae = TGAE(latent_dim=6).to(device)\n",
    "tgae.load_state_dict(torch.load(\"tgae_pre_trained.pth\", map_location=torch.device('cpu')))\n",
    "\n",
    "regressor_params = list(tgae.regressor.parameters())\n",
    "other_params = [p for n, p in tgae.named_parameters() if not n.startswith(\"regressor\")]\n",
    "\n",
    "optimizer = torch.optim.Adam([\n",
    "    {'params': regressor_params, 'lr': 1e-3},\n",
    "    {'params': other_params, 'lr': 1e-4}\n",
    "])\n",
    "\n",
    "tgae, train_losses, valid_losses = fine_tune.fine_tune(\n",
    "    epochs=30,\n",
    "    tgae=tgae,\n",
    "    proteins_embedding=proteins_embedding,\n",
    "    train_loader=train_loader,\n",
    "    valid_loader=valid_loader,\n",
    "    optimizer=optimizer,\n",
    ")\n",
    "\n",
    "# --- SAVE TRAINED MODEL and loss---\n",
    "torch.save(tgae.state_dict(), \"PESC3/gae_PESC3.pth\")"
   ]
  },
  {
   "cell_type": "markdown",
   "id": "c81d2ca2",
   "metadata": {},
   "source": [
    "## Plot plosses"
   ]
  },
  {
   "cell_type": "code",
   "execution_count": null,
   "id": "749f1df5",
   "metadata": {},
   "outputs": [],
   "source": [
    "epochs = range(len(train_losses)-1)\n",
    "\n",
    "plt.figure(figsize=(10, 6))\n",
    "plt.plot(epochs, train_losses[1:], marker='o', label='Training Error')\n",
    "plt.plot(epochs, valid_losses[1:], marker='o', label='Testing Error')\n",
    "\n",
    "plt.title('Training and Validation Losses')\n",
    "plt.xlabel('Epoch')\n",
    "plt.ylabel('Losses')\n",
    "plt.legend()\n",
    "plt.grid(True)\n",
    "plt.show()"
   ]
  },
  {
   "cell_type": "markdown",
   "id": "3f803831",
   "metadata": {},
   "source": [
    "# Encode SASP score"
   ]
  },
  {
   "cell_type": "code",
   "execution_count": null,
   "id": "7d869440",
   "metadata": {},
   "outputs": [],
   "source": [
    "df_raw = df.iloc[:,2:]"
   ]
  },
  {
   "cell_type": "markdown",
   "id": "a8716d7c",
   "metadata": {},
   "source": [
    "## Load parent model"
   ]
  },
  {
   "cell_type": "code",
   "execution_count": null,
   "id": "a6c84763",
   "metadata": {},
   "outputs": [],
   "source": [
    "# Load TGAE model and data\n",
    "tgae = TGAE(\n",
    "    d_model=128,\n",
    "    latent_dim = 6,\n",
    "    nhead=8,\n",
    "    num_layers=2,\n",
    ").to(device)\n",
    "tgae.load_state_dict(torch.load(\"tgae_pre_trained.pth\", map_location=torch.device('cpu')))\n",
    "\n",
    "sasp_raw = get_index.gen_index(\n",
    "    raw_df=df_raw,\n",
    "    tgae=tgae,\n",
    "    device=device\n",
    ")"
   ]
  },
  {
   "cell_type": "markdown",
   "id": "b665a1b0",
   "metadata": {},
   "source": [
    "## Load fine-tunned model"
   ]
  },
  {
   "cell_type": "code",
   "execution_count": null,
   "id": "f2572e34",
   "metadata": {},
   "outputs": [],
   "source": [
    "# Load TGAE model and data\n",
    "tgae = TGAE(\n",
    "    d_model=128,\n",
    "    latent_dim = 6,\n",
    "    nhead=8,\n",
    "    num_layers=2,\n",
    ").to(device)\n",
    "tgae.load_state_dict(torch.load(\"PESC3/gae_PESC3.pth\", map_location=torch.device('cpu')))\n",
    "\n",
    "sasp_tuned = get_index.gen_index(\n",
    "    raw_df=df_raw,\n",
    "    tgae=tgae,\n",
    "    device=device\n",
    ")"
   ]
  },
  {
   "cell_type": "code",
   "execution_count": null,
   "id": "8bd1b132",
   "metadata": {},
   "outputs": [],
   "source": [
    "# Combine results and save\n",
    "ID = df.iloc[:,0]\n",
    "Age = df.iloc[:,1]\n",
    "print(np.corrcoef(Age, sasp_raw))\n",
    "print(np.corrcoef(Age, sasp_tuned))\n",
    "\n",
    "sasp_raw = pd.DataFrame({'sasp_score_raw': sasp_raw})\n",
    "sasp_tuned = pd.DataFrame({'sasp_score_tuned': sasp_tuned})\n",
    "df_combined = pd.concat([ID, Age, sasp_raw, sasp_tuned], axis=1)\n",
    "df_combined.to_csv(\"sasp_score_pesc3.csv\", index=False)"
   ]
  }
 ],
 "metadata": {
  "language_info": {
   "name": "python"
  }
 },
 "nbformat": 4,
 "nbformat_minor": 5
}
